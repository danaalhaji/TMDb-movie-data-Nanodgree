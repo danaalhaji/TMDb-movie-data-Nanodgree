{
 "cells": [
  {
   "cell_type": "markdown",
   "id": "f3d23abd-f6c0-406c-8eb3-5e6faf0e0e35",
   "metadata": {},
   "source": [
    "# Questions to discuss druing this invetigation :\n",
    "### How does budget impact movie popularity?"
   ]
  },
  {
   "cell_type": "markdown",
   "id": "508e0c02-d077-4062-a758-3d2ecb801f8e",
   "metadata": {},
   "source": [
    "### Are higher-budget movies generally more popular than lower-budget movies?"
   ]
  },
  {
   "cell_type": "markdown",
   "id": "9bad204a-b57a-4125-b219-440b266cee2e",
   "metadata": {},
   "source": [
    "### Is there a significant correlation between original language  and popularity?"
   ]
  },
  {
   "cell_type": "markdown",
   "id": "afa8502f-4318-4e85-a765-8e2830440276",
   "metadata": {},
   "source": [
    "### Is the budget changed during time ? and has that affect the popularity?"
   ]
  },
  {
   "cell_type": "markdown",
   "id": "531e23f6-9265-4990-9bdd-17bcdddab6c8",
   "metadata": {},
   "source": [
    "First let's get our datasets and describe it"
   ]
  },
  {
   "cell_type": "code",
   "execution_count": 70,
   "id": "2813ce30-e321-444b-b05f-18d4aab46c49",
   "metadata": {},
   "outputs": [],
   "source": [
    "import pandas as pd\n",
    "import numpy as np\n",
    "import matplotlib.pyplot as plt\n",
    "\n",
    "\n",
    "df_movies = pd.read_csv('tmdb_5000_movies.csv')\n",
    "df_cred = pd.read_csv('tmdb_5000_credits.csv')"
   ]
  },
  {
   "cell_type": "markdown",
   "id": "0b6cadc0-2d7c-4d72-ab17-90085592e1cc",
   "metadata": {},
   "source": [
    "**Describe Our Datasets**"
   ]
  },
  {
   "cell_type": "code",
   "execution_count": 72,
   "id": "3bcb7b1a-a8d5-465e-be9f-d6ae53f47315",
   "metadata": {},
   "outputs": [
    {
     "name": "stdout",
     "output_type": "stream",
     "text": [
      "<class 'pandas.core.frame.DataFrame'>\n",
      "RangeIndex: 4803 entries, 0 to 4802\n",
      "Data columns (total 20 columns):\n",
      " #   Column                Non-Null Count  Dtype  \n",
      "---  ------                --------------  -----  \n",
      " 0   budget                4803 non-null   int64  \n",
      " 1   genres                4803 non-null   object \n",
      " 2   homepage              1712 non-null   object \n",
      " 3   id                    4803 non-null   int64  \n",
      " 4   keywords              4803 non-null   object \n",
      " 5   original_language     4803 non-null   object \n",
      " 6   original_title        4803 non-null   object \n",
      " 7   overview              4800 non-null   object \n",
      " 8   popularity            4803 non-null   float64\n",
      " 9   production_companies  4803 non-null   object \n",
      " 10  production_countries  4803 non-null   object \n",
      " 11  release_date          4802 non-null   object \n",
      " 12  revenue               4803 non-null   int64  \n",
      " 13  runtime               4801 non-null   float64\n",
      " 14  spoken_languages      4803 non-null   object \n",
      " 15  status                4803 non-null   object \n",
      " 16  tagline               3959 non-null   object \n",
      " 17  title                 4803 non-null   object \n",
      " 18  vote_average          4803 non-null   float64\n",
      " 19  vote_count            4803 non-null   int64  \n",
      "dtypes: float64(3), int64(4), object(13)\n",
      "memory usage: 750.6+ KB\n"
     ]
    }
   ],
   "source": [
    "df_movies.info()"
   ]
  },
  {
   "cell_type": "code",
   "execution_count": 73,
   "id": "abd968c9-bc93-4ad5-8b77-b6189387c06d",
   "metadata": {},
   "outputs": [
    {
     "name": "stdout",
     "output_type": "stream",
     "text": [
      "<class 'pandas.core.frame.DataFrame'>\n",
      "RangeIndex: 4803 entries, 0 to 4802\n",
      "Data columns (total 4 columns):\n",
      " #   Column    Non-Null Count  Dtype \n",
      "---  ------    --------------  ----- \n",
      " 0   movie_id  4803 non-null   int64 \n",
      " 1   title     4803 non-null   object\n",
      " 2   cast      4803 non-null   object\n",
      " 3   crew      4803 non-null   object\n",
      "dtypes: int64(1), object(3)\n",
      "memory usage: 150.2+ KB\n"
     ]
    }
   ],
   "source": [
    "df_cred.info()"
   ]
  },
  {
   "cell_type": "markdown",
   "id": "75e6a839-cac6-4a34-a15d-2421de1bf6c1",
   "metadata": {},
   "source": [
    "***Merge Two Datasets***"
   ]
  },
  {
   "cell_type": "code",
   "execution_count": 75,
   "id": "323c20bb-96ac-40be-8ec2-8c17ed1eff97",
   "metadata": {},
   "outputs": [],
   "source": [
    "df_cred.columns = ['id' ,  'title' , 'cast' , 'crew']\n",
    "df = df_movies.merge(df_cred , on = \"id\")"
   ]
  },
  {
   "cell_type": "code",
   "execution_count": 77,
   "id": "4521238f-fc0a-42e2-b38b-087cadabd568",
   "metadata": {},
   "outputs": [
    {
     "name": "stdout",
     "output_type": "stream",
     "text": [
      "<class 'pandas.core.frame.DataFrame'>\n",
      "RangeIndex: 4803 entries, 0 to 4802\n",
      "Data columns (total 23 columns):\n",
      " #   Column                Non-Null Count  Dtype  \n",
      "---  ------                --------------  -----  \n",
      " 0   budget                4803 non-null   int64  \n",
      " 1   genres                4803 non-null   object \n",
      " 2   homepage              1712 non-null   object \n",
      " 3   id                    4803 non-null   int64  \n",
      " 4   keywords              4803 non-null   object \n",
      " 5   original_language     4803 non-null   object \n",
      " 6   original_title        4803 non-null   object \n",
      " 7   overview              4800 non-null   object \n",
      " 8   popularity            4803 non-null   float64\n",
      " 9   production_companies  4803 non-null   object \n",
      " 10  production_countries  4803 non-null   object \n",
      " 11  release_date          4802 non-null   object \n",
      " 12  revenue               4803 non-null   int64  \n",
      " 13  runtime               4801 non-null   float64\n",
      " 14  spoken_languages      4803 non-null   object \n",
      " 15  status                4803 non-null   object \n",
      " 16  tagline               3959 non-null   object \n",
      " 17  title_x               4803 non-null   object \n",
      " 18  vote_average          4803 non-null   float64\n",
      " 19  vote_count            4803 non-null   int64  \n",
      " 20  title_y               4803 non-null   object \n",
      " 21  cast                  4803 non-null   object \n",
      " 22  crew                  4803 non-null   object \n",
      "dtypes: float64(3), int64(4), object(16)\n",
      "memory usage: 863.2+ KB\n"
     ]
    }
   ],
   "source": [
    "df.info()"
   ]
  },
  {
   "cell_type": "code",
   "execution_count": 78,
   "id": "9cbf025d-b117-4d14-8262-9f98d07157b1",
   "metadata": {},
   "outputs": [
    {
     "data": {
      "text/html": [
       "<div>\n",
       "<style scoped>\n",
       "    .dataframe tbody tr th:only-of-type {\n",
       "        vertical-align: middle;\n",
       "    }\n",
       "\n",
       "    .dataframe tbody tr th {\n",
       "        vertical-align: top;\n",
       "    }\n",
       "\n",
       "    .dataframe thead th {\n",
       "        text-align: right;\n",
       "    }\n",
       "</style>\n",
       "<table border=\"1\" class=\"dataframe\">\n",
       "  <thead>\n",
       "    <tr style=\"text-align: right;\">\n",
       "      <th></th>\n",
       "      <th>budget</th>\n",
       "      <th>genres</th>\n",
       "      <th>homepage</th>\n",
       "      <th>id</th>\n",
       "      <th>keywords</th>\n",
       "      <th>original_language</th>\n",
       "      <th>original_title</th>\n",
       "      <th>overview</th>\n",
       "      <th>popularity</th>\n",
       "      <th>production_companies</th>\n",
       "      <th>...</th>\n",
       "      <th>runtime</th>\n",
       "      <th>spoken_languages</th>\n",
       "      <th>status</th>\n",
       "      <th>tagline</th>\n",
       "      <th>title_x</th>\n",
       "      <th>vote_average</th>\n",
       "      <th>vote_count</th>\n",
       "      <th>title_y</th>\n",
       "      <th>cast</th>\n",
       "      <th>crew</th>\n",
       "    </tr>\n",
       "  </thead>\n",
       "  <tbody>\n",
       "    <tr>\n",
       "      <th>0</th>\n",
       "      <td>237000000</td>\n",
       "      <td>[{\"id\": 28, \"name\": \"Action\"}, {\"id\": 12, \"nam...</td>\n",
       "      <td>http://www.avatarmovie.com/</td>\n",
       "      <td>19995</td>\n",
       "      <td>[{\"id\": 1463, \"name\": \"culture clash\"}, {\"id\":...</td>\n",
       "      <td>en</td>\n",
       "      <td>Avatar</td>\n",
       "      <td>In the 22nd century, a paraplegic Marine is di...</td>\n",
       "      <td>150.437577</td>\n",
       "      <td>[{\"name\": \"Ingenious Film Partners\", \"id\": 289...</td>\n",
       "      <td>...</td>\n",
       "      <td>162.0</td>\n",
       "      <td>[{\"iso_639_1\": \"en\", \"name\": \"English\"}, {\"iso...</td>\n",
       "      <td>Released</td>\n",
       "      <td>Enter the World of Pandora.</td>\n",
       "      <td>Avatar</td>\n",
       "      <td>7.2</td>\n",
       "      <td>11800</td>\n",
       "      <td>Avatar</td>\n",
       "      <td>[{\"cast_id\": 242, \"character\": \"Jake Sully\", \"...</td>\n",
       "      <td>[{\"credit_id\": \"52fe48009251416c750aca23\", \"de...</td>\n",
       "    </tr>\n",
       "    <tr>\n",
       "      <th>1</th>\n",
       "      <td>300000000</td>\n",
       "      <td>[{\"id\": 12, \"name\": \"Adventure\"}, {\"id\": 14, \"...</td>\n",
       "      <td>http://disney.go.com/disneypictures/pirates/</td>\n",
       "      <td>285</td>\n",
       "      <td>[{\"id\": 270, \"name\": \"ocean\"}, {\"id\": 726, \"na...</td>\n",
       "      <td>en</td>\n",
       "      <td>Pirates of the Caribbean: At World's End</td>\n",
       "      <td>Captain Barbossa, long believed to be dead, ha...</td>\n",
       "      <td>139.082615</td>\n",
       "      <td>[{\"name\": \"Walt Disney Pictures\", \"id\": 2}, {\"...</td>\n",
       "      <td>...</td>\n",
       "      <td>169.0</td>\n",
       "      <td>[{\"iso_639_1\": \"en\", \"name\": \"English\"}]</td>\n",
       "      <td>Released</td>\n",
       "      <td>At the end of the world, the adventure begins.</td>\n",
       "      <td>Pirates of the Caribbean: At World's End</td>\n",
       "      <td>6.9</td>\n",
       "      <td>4500</td>\n",
       "      <td>Pirates of the Caribbean: At World's End</td>\n",
       "      <td>[{\"cast_id\": 4, \"character\": \"Captain Jack Spa...</td>\n",
       "      <td>[{\"credit_id\": \"52fe4232c3a36847f800b579\", \"de...</td>\n",
       "    </tr>\n",
       "  </tbody>\n",
       "</table>\n",
       "<p>2 rows × 23 columns</p>\n",
       "</div>"
      ],
      "text/plain": [
       "      budget                                             genres  \\\n",
       "0  237000000  [{\"id\": 28, \"name\": \"Action\"}, {\"id\": 12, \"nam...   \n",
       "1  300000000  [{\"id\": 12, \"name\": \"Adventure\"}, {\"id\": 14, \"...   \n",
       "\n",
       "                                       homepage     id  \\\n",
       "0                   http://www.avatarmovie.com/  19995   \n",
       "1  http://disney.go.com/disneypictures/pirates/    285   \n",
       "\n",
       "                                            keywords original_language  \\\n",
       "0  [{\"id\": 1463, \"name\": \"culture clash\"}, {\"id\":...                en   \n",
       "1  [{\"id\": 270, \"name\": \"ocean\"}, {\"id\": 726, \"na...                en   \n",
       "\n",
       "                             original_title  \\\n",
       "0                                    Avatar   \n",
       "1  Pirates of the Caribbean: At World's End   \n",
       "\n",
       "                                            overview  popularity  \\\n",
       "0  In the 22nd century, a paraplegic Marine is di...  150.437577   \n",
       "1  Captain Barbossa, long believed to be dead, ha...  139.082615   \n",
       "\n",
       "                                production_companies  ... runtime  \\\n",
       "0  [{\"name\": \"Ingenious Film Partners\", \"id\": 289...  ...   162.0   \n",
       "1  [{\"name\": \"Walt Disney Pictures\", \"id\": 2}, {\"...  ...   169.0   \n",
       "\n",
       "                                    spoken_languages    status  \\\n",
       "0  [{\"iso_639_1\": \"en\", \"name\": \"English\"}, {\"iso...  Released   \n",
       "1           [{\"iso_639_1\": \"en\", \"name\": \"English\"}]  Released   \n",
       "\n",
       "                                          tagline  \\\n",
       "0                     Enter the World of Pandora.   \n",
       "1  At the end of the world, the adventure begins.   \n",
       "\n",
       "                                    title_x vote_average vote_count  \\\n",
       "0                                    Avatar          7.2      11800   \n",
       "1  Pirates of the Caribbean: At World's End          6.9       4500   \n",
       "\n",
       "                                    title_y  \\\n",
       "0                                    Avatar   \n",
       "1  Pirates of the Caribbean: At World's End   \n",
       "\n",
       "                                                cast  \\\n",
       "0  [{\"cast_id\": 242, \"character\": \"Jake Sully\", \"...   \n",
       "1  [{\"cast_id\": 4, \"character\": \"Captain Jack Spa...   \n",
       "\n",
       "                                                crew  \n",
       "0  [{\"credit_id\": \"52fe48009251416c750aca23\", \"de...  \n",
       "1  [{\"credit_id\": \"52fe4232c3a36847f800b579\", \"de...  \n",
       "\n",
       "[2 rows x 23 columns]"
      ]
     },
     "execution_count": 78,
     "metadata": {},
     "output_type": "execute_result"
    }
   ],
   "source": [
    "df.head(2)"
   ]
  },
  {
   "cell_type": "markdown",
   "id": "33eb7be2-8909-452e-9dd0-49913aba3217",
   "metadata": {},
   "source": [
    "**#drop repeated columns#**"
   ]
  },
  {
   "cell_type": "code",
   "execution_count": 85,
   "id": "b58e8c0d-972c-4af2-8be6-a306ac432e89",
   "metadata": {},
   "outputs": [
    {
     "data": {
      "text/html": [
       "<div>\n",
       "<style scoped>\n",
       "    .dataframe tbody tr th:only-of-type {\n",
       "        vertical-align: middle;\n",
       "    }\n",
       "\n",
       "    .dataframe tbody tr th {\n",
       "        vertical-align: top;\n",
       "    }\n",
       "\n",
       "    .dataframe thead th {\n",
       "        text-align: right;\n",
       "    }\n",
       "</style>\n",
       "<table border=\"1\" class=\"dataframe\">\n",
       "  <thead>\n",
       "    <tr style=\"text-align: right;\">\n",
       "      <th></th>\n",
       "      <th>budget</th>\n",
       "      <th>genres</th>\n",
       "      <th>homepage</th>\n",
       "      <th>id</th>\n",
       "      <th>keywords</th>\n",
       "      <th>original_language</th>\n",
       "      <th>title</th>\n",
       "      <th>overview</th>\n",
       "      <th>popularity</th>\n",
       "      <th>production_companies</th>\n",
       "      <th>...</th>\n",
       "      <th>release_date</th>\n",
       "      <th>revenue</th>\n",
       "      <th>runtime</th>\n",
       "      <th>spoken_languages</th>\n",
       "      <th>status</th>\n",
       "      <th>tagline</th>\n",
       "      <th>vote_average</th>\n",
       "      <th>vote_count</th>\n",
       "      <th>cast</th>\n",
       "      <th>crew</th>\n",
       "    </tr>\n",
       "  </thead>\n",
       "  <tbody>\n",
       "    <tr>\n",
       "      <th>0</th>\n",
       "      <td>237000000</td>\n",
       "      <td>[{\"id\": 28, \"name\": \"Action\"}, {\"id\": 12, \"nam...</td>\n",
       "      <td>http://www.avatarmovie.com/</td>\n",
       "      <td>19995</td>\n",
       "      <td>[{\"id\": 1463, \"name\": \"culture clash\"}, {\"id\":...</td>\n",
       "      <td>en</td>\n",
       "      <td>Avatar</td>\n",
       "      <td>In the 22nd century, a paraplegic Marine is di...</td>\n",
       "      <td>150.437577</td>\n",
       "      <td>[{\"name\": \"Ingenious Film Partners\", \"id\": 289...</td>\n",
       "      <td>...</td>\n",
       "      <td>2009-12-10</td>\n",
       "      <td>2787965087</td>\n",
       "      <td>162.0</td>\n",
       "      <td>[{\"iso_639_1\": \"en\", \"name\": \"English\"}, {\"iso...</td>\n",
       "      <td>Released</td>\n",
       "      <td>Enter the World of Pandora.</td>\n",
       "      <td>7.2</td>\n",
       "      <td>11800</td>\n",
       "      <td>[{\"cast_id\": 242, \"character\": \"Jake Sully\", \"...</td>\n",
       "      <td>[{\"credit_id\": \"52fe48009251416c750aca23\", \"de...</td>\n",
       "    </tr>\n",
       "  </tbody>\n",
       "</table>\n",
       "<p>1 rows × 21 columns</p>\n",
       "</div>"
      ],
      "text/plain": [
       "      budget                                             genres  \\\n",
       "0  237000000  [{\"id\": 28, \"name\": \"Action\"}, {\"id\": 12, \"nam...   \n",
       "\n",
       "                      homepage     id  \\\n",
       "0  http://www.avatarmovie.com/  19995   \n",
       "\n",
       "                                            keywords original_language  \\\n",
       "0  [{\"id\": 1463, \"name\": \"culture clash\"}, {\"id\":...                en   \n",
       "\n",
       "    title                                           overview  popularity  \\\n",
       "0  Avatar  In the 22nd century, a paraplegic Marine is di...  150.437577   \n",
       "\n",
       "                                production_companies  ... release_date  \\\n",
       "0  [{\"name\": \"Ingenious Film Partners\", \"id\": 289...  ...   2009-12-10   \n",
       "\n",
       "      revenue  runtime                                   spoken_languages  \\\n",
       "0  2787965087    162.0  [{\"iso_639_1\": \"en\", \"name\": \"English\"}, {\"iso...   \n",
       "\n",
       "     status                      tagline vote_average  vote_count  \\\n",
       "0  Released  Enter the World of Pandora.          7.2       11800   \n",
       "\n",
       "                                                cast  \\\n",
       "0  [{\"cast_id\": 242, \"character\": \"Jake Sully\", \"...   \n",
       "\n",
       "                                                crew  \n",
       "0  [{\"credit_id\": \"52fe48009251416c750aca23\", \"de...  \n",
       "\n",
       "[1 rows x 21 columns]"
      ]
     },
     "execution_count": 85,
     "metadata": {},
     "output_type": "execute_result"
    }
   ],
   "source": [
    "df.drop(['title_y','title_x'], inplace=True, axis=1) \n",
    "df = df.rename(columns={\"original_title\" : \"title\"})\n",
    "df.head(1)"
   ]
  },
  {
   "cell_type": "code",
   "execution_count": 87,
   "id": "5a508650-641e-4946-9a4a-7272578c4ce9",
   "metadata": {},
   "outputs": [
    {
     "data": {
      "text/plain": [
       "Index(['budget', 'genres', 'homepage', 'id', 'keywords', 'original_language',\n",
       "       'title', 'overview', 'popularity', 'production_companies',\n",
       "       'production_countries', 'release_date', 'revenue', 'runtime',\n",
       "       'spoken_languages', 'status', 'tagline', 'vote_average', 'vote_count',\n",
       "       'cast', 'crew'],\n",
       "      dtype='object')"
      ]
     },
     "execution_count": 87,
     "metadata": {},
     "output_type": "execute_result"
    }
   ],
   "source": [
    "df.columns"
   ]
  },
  {
   "cell_type": "markdown",
   "id": "c7c04857-8dea-409f-8629-7b3dd60d9f78",
   "metadata": {},
   "source": [
    "#rename original_title to title "
   ]
  },
  {
   "cell_type": "markdown",
   "id": "b5110022-a892-4116-9d7d-4379e8b660c6",
   "metadata": {},
   "source": [
    "***create a copy of our Dataset for any possible mistake so the main dataset will not be affected***"
   ]
  },
  {
   "cell_type": "code",
   "execution_count": 91,
   "id": "65434b2c-55cd-41bf-a9b8-fdfd7f5e5c68",
   "metadata": {},
   "outputs": [],
   "source": [
    "df_copy = df"
   ]
  },
  {
   "cell_type": "code",
   "execution_count": 93,
   "id": "a6a6f124-f139-4d51-aa39-095d29b5d841",
   "metadata": {},
   "outputs": [
    {
     "name": "stdout",
     "output_type": "stream",
     "text": [
      "<class 'pandas.core.frame.DataFrame'>\n",
      "RangeIndex: 4803 entries, 0 to 4802\n",
      "Data columns (total 21 columns):\n",
      " #   Column                Non-Null Count  Dtype  \n",
      "---  ------                --------------  -----  \n",
      " 0   budget                4803 non-null   int64  \n",
      " 1   genres                4803 non-null   object \n",
      " 2   homepage              1712 non-null   object \n",
      " 3   id                    4803 non-null   int64  \n",
      " 4   keywords              4803 non-null   object \n",
      " 5   original_language     4803 non-null   object \n",
      " 6   title                 4803 non-null   object \n",
      " 7   overview              4800 non-null   object \n",
      " 8   popularity            4803 non-null   float64\n",
      " 9   production_companies  4803 non-null   object \n",
      " 10  production_countries  4803 non-null   object \n",
      " 11  release_date          4802 non-null   object \n",
      " 12  revenue               4803 non-null   int64  \n",
      " 13  runtime               4801 non-null   float64\n",
      " 14  spoken_languages      4803 non-null   object \n",
      " 15  status                4803 non-null   object \n",
      " 16  tagline               3959 non-null   object \n",
      " 17  vote_average          4803 non-null   float64\n",
      " 18  vote_count            4803 non-null   int64  \n",
      " 19  cast                  4803 non-null   object \n",
      " 20  crew                  4803 non-null   object \n",
      "dtypes: float64(3), int64(4), object(14)\n",
      "memory usage: 788.1+ KB\n"
     ]
    }
   ],
   "source": [
    "df_copy.info()"
   ]
  },
  {
   "cell_type": "markdown",
   "id": "97fad3d1-cc5c-4570-999c-3969780080bb",
   "metadata": {},
   "source": [
    "# Q: Popularity and Budget relation for different parameters"
   ]
  },
  {
   "cell_type": "markdown",
   "id": "67dea349-5597-47c3-99db-731d48c6a14d",
   "metadata": {},
   "source": [
    "## Study the Original Language  and Popularity relation"
   ]
  },
  {
   "cell_type": "markdown",
   "id": "fd09b176-49d9-4ea9-a8b9-56e2a5ab93e4",
   "metadata": {},
   "source": [
    "***1- create dataset***"
   ]
  },
  {
   "cell_type": "code",
   "execution_count": 98,
   "id": "18c0fe7a-e442-49f5-abd5-768f627907ae",
   "metadata": {},
   "outputs": [],
   "source": [
    "y = df_copy.groupby('original_language').agg(movie_count=('id', 'size'), mean_popularity=('popularity', 'mean') ).reset_index()"
   ]
  },
  {
   "cell_type": "code",
   "execution_count": 100,
   "id": "db30c359-d8ac-4677-83dd-920b29aa32da",
   "metadata": {},
   "outputs": [
    {
     "data": {
      "text/html": [
       "<div>\n",
       "<style scoped>\n",
       "    .dataframe tbody tr th:only-of-type {\n",
       "        vertical-align: middle;\n",
       "    }\n",
       "\n",
       "    .dataframe tbody tr th {\n",
       "        vertical-align: top;\n",
       "    }\n",
       "\n",
       "    .dataframe thead th {\n",
       "        text-align: right;\n",
       "    }\n",
       "</style>\n",
       "<table border=\"1\" class=\"dataframe\">\n",
       "  <thead>\n",
       "    <tr style=\"text-align: right;\">\n",
       "      <th></th>\n",
       "      <th>original_language</th>\n",
       "      <th>movie_count</th>\n",
       "      <th>mean_popularity</th>\n",
       "    </tr>\n",
       "  </thead>\n",
       "  <tbody>\n",
       "    <tr>\n",
       "      <th>0</th>\n",
       "      <td>af</td>\n",
       "      <td>1</td>\n",
       "      <td>2.504169</td>\n",
       "    </tr>\n",
       "    <tr>\n",
       "      <th>1</th>\n",
       "      <td>ar</td>\n",
       "      <td>2</td>\n",
       "      <td>4.723389</td>\n",
       "    </tr>\n",
       "    <tr>\n",
       "      <th>2</th>\n",
       "      <td>cn</td>\n",
       "      <td>12</td>\n",
       "      <td>10.631343</td>\n",
       "    </tr>\n",
       "    <tr>\n",
       "      <th>3</th>\n",
       "      <td>cs</td>\n",
       "      <td>2</td>\n",
       "      <td>1.286849</td>\n",
       "    </tr>\n",
       "    <tr>\n",
       "      <th>4</th>\n",
       "      <td>da</td>\n",
       "      <td>7</td>\n",
       "      <td>17.663925</td>\n",
       "    </tr>\n",
       "  </tbody>\n",
       "</table>\n",
       "</div>"
      ],
      "text/plain": [
       "  original_language  movie_count  mean_popularity\n",
       "0                af            1         2.504169\n",
       "1                ar            2         4.723389\n",
       "2                cn           12        10.631343\n",
       "3                cs            2         1.286849\n",
       "4                da            7        17.663925"
      ]
     },
     "execution_count": 100,
     "metadata": {},
     "output_type": "execute_result"
    }
   ],
   "source": [
    "y.head()"
   ]
  },
  {
   "cell_type": "markdown",
   "id": "eb5ccfeb-9ea7-4ead-acd9-03c7553936af",
   "metadata": {},
   "source": [
    "**Wriring a functions for plotting:**"
   ]
  },
  {
   "cell_type": "code",
   "execution_count": 103,
   "id": "c5e7804a-ff3e-4cee-aba7-1782c369b3ec",
   "metadata": {},
   "outputs": [],
   "source": [
    "def bar_pltot(df_1, x_para, y_para , bar_color , x_label , y_label ,title):\n",
    "    plt.figure(figsize=(22, 8))\n",
    "    plt.bar(df_1[x_para],df_1[y_para], color=bar_color)\n",
    "    plt.title(title)\n",
    "    plt.xlabel(x_label)\n",
    "    plt.ylabel(y_label)\n",
    "    plt.show()\n",
    "\n",
    "def scatter_plot(df_1 , x_para, y_para , point_row , scatter_color , x_label , y_label  ,title):\n",
    "    plt.figure(figsize=(12, 8))\n",
    "    plt.scatter(df_1[x_para], df_1[y_para], color= scatter_color, edgecolor='black')\n",
    "    plt.title(title)\n",
    "    plt.xlabel(x_label)\n",
    "    plt.ylabel(y_label)\n",
    "    for i, row in df_1.iterrows():\n",
    "        plt.text(row[x_para], row[y_para], row[point_row], fontsize=8, ha='right')\n",
    "    plt.show()\n",
    "    "
   ]
  },
  {
   "cell_type": "code",
   "execution_count": 105,
   "id": "6a46abbe-a4d8-485b-8821-f32b85550fb3",
   "metadata": {},
   "outputs": [
    {
     "data": {
      "image/png": "[encoded data removed]",
      "text/plain": [
       "<Figure size 1800x800 with 2 Axes>"
      ]
     },
     "metadata": {},
     "output_type": "display_data"
    }
   ],
   "source": [
    "y = y.sort_values(by='movie_count', ascending=False)\n",
    "\n",
    "fig, ax1 = plt.subplots(figsize=(18, 8))\n",
    "\n",
    "ax1.bar(y['original_language'],y['movie_count'], color='skyblue', label='Number of Movies')\n",
    "ax1.set_xlabel('Language')\n",
    "ax1.set_ylabel('Number of Movies', color='skyblue')\n",
    "ax1.tick_params(axis='y', labelcolor='skyblue')\n",
    "ax1.set_xticks(range(len(y['original_language'])))\n",
    "ax1.set_xticklabels(y['original_language'], rotation=45, ha='right')\n",
    "\n",
    "ax2 = ax1.twinx()\n",
    "ax2.bar(y['original_language'], y['mean_popularity'], color='salmon', label='Mean Popularity')\n",
    "ax2.set_ylabel('Mean Popularity', color='salmon')\n",
    "ax2.tick_params(axis='y', labelcolor='salmon')\n",
    "\n",
    "plt.title('Number of Movies and Mean Popularity by Language')\n",
    "fig.tight_layout()\n",
    "plt.show()"
   ]
  },
  {
   "cell_type": "markdown",
   "id": "059f5ddb-a6d3-41fc-bd66-c0ba32a4d7a5",
   "metadata": {},
   "source": [
    "### Conclusion : some Languages already have popluar movies even with lack number of movies produced "
   ]
  },
  {
   "cell_type": "markdown",
   "id": "4fac02a4-fae6-4536-a329-d892da6a58b0",
   "metadata": {},
   "source": [
    "# Budget Vs Popularity"
   ]
  },
  {
   "cell_type": "code",
   "execution_count": 108,
   "id": "c183906e-e718-4108-bc66-101476bdfb61",
   "metadata": {},
   "outputs": [],
   "source": [
    "df_budget_vs_pop = df.groupby(['popularity', 'title', 'production_companies','release_date']).agg(budget_mean=('budget', 'mean')).reset_index().sort_values(by='popularity', ascending=False).head(20)"
   ]
  },
  {
   "cell_type": "code",
   "execution_count": 110,
   "id": "fc76b851-adfb-4fb9-9536-9b0de201d8ee",
   "metadata": {},
   "outputs": [
    {
     "data": {
      "text/plain": [
       "Index(['popularity', 'title', 'production_companies', 'release_date',\n",
       "       'budget_mean'],\n",
       "      dtype='object')"
      ]
     },
     "execution_count": 110,
     "metadata": {},
     "output_type": "execute_result"
    }
   ],
   "source": [
    "df_budget_vs_pop.columns"
   ]
  },
  {
   "cell_type": "code",
   "execution_count": 113,
   "id": "f69144b1-9d75-467d-9011-500db349a2c0",
   "metadata": {},
   "outputs": [
    {
     "data": {
      "text/html": [
       "<div>\n",
       "<style scoped>\n",
       "    .dataframe tbody tr th:only-of-type {\n",
       "        vertical-align: middle;\n",
       "    }\n",
       "\n",
       "    .dataframe tbody tr th {\n",
       "        vertical-align: top;\n",
       "    }\n",
       "\n",
       "    .dataframe thead th {\n",
       "        text-align: right;\n",
       "    }\n",
       "</style>\n",
       "<table border=\"1\" class=\"dataframe\">\n",
       "  <thead>\n",
       "    <tr style=\"text-align: right;\">\n",
       "      <th></th>\n",
       "      <th>popularity</th>\n",
       "      <th>budget_mean</th>\n",
       "    </tr>\n",
       "  </thead>\n",
       "  <tbody>\n",
       "    <tr>\n",
       "      <th>count</th>\n",
       "      <td>20.000000</td>\n",
       "      <td>2.000000e+01</td>\n",
       "    </tr>\n",
       "    <tr>\n",
       "      <th>mean</th>\n",
       "      <td>305.405266</td>\n",
       "      <td>1.464150e+08</td>\n",
       "    </tr>\n",
       "    <tr>\n",
       "      <th>std</th>\n",
       "      <td>206.173910</td>\n",
       "      <td>6.313346e+07</td>\n",
       "    </tr>\n",
       "    <tr>\n",
       "      <th>min</th>\n",
       "      <td>146.757391</td>\n",
       "      <td>3.300000e+06</td>\n",
       "    </tr>\n",
       "    <tr>\n",
       "      <th>25%</th>\n",
       "      <td>167.845580</td>\n",
       "      <td>1.207500e+08</td>\n",
       "    </tr>\n",
       "    <tr>\n",
       "      <th>50%</th>\n",
       "      <td>202.888612</td>\n",
       "      <td>1.525000e+08</td>\n",
       "    </tr>\n",
       "    <tr>\n",
       "      <th>75%</th>\n",
       "      <td>422.601055</td>\n",
       "      <td>1.700000e+08</td>\n",
       "    </tr>\n",
       "    <tr>\n",
       "      <th>max</th>\n",
       "      <td>875.581305</td>\n",
       "      <td>2.500000e+08</td>\n",
       "    </tr>\n",
       "  </tbody>\n",
       "</table>\n",
       "</div>"
      ],
      "text/plain": [
       "       popularity   budget_mean\n",
       "count   20.000000  2.000000e+01\n",
       "mean   305.405266  1.464150e+08\n",
       "std    206.173910  6.313346e+07\n",
       "min    146.757391  3.300000e+06\n",
       "25%    167.845580  1.207500e+08\n",
       "50%    202.888612  1.525000e+08\n",
       "75%    422.601055  1.700000e+08\n",
       "max    875.581305  2.500000e+08"
      ]
     },
     "execution_count": 113,
     "metadata": {},
     "output_type": "execute_result"
    }
   ],
   "source": [
    "df_budget_vs_pop.describe()"
   ]
  },
  {
   "cell_type": "code",
   "execution_count": 115,
   "id": "12e1afa6-d9fd-412d-9df5-1a7107d31fe7",
   "metadata": {},
   "outputs": [
    {
     "data": {
      "text/html": [
       "<div>\n",
       "<style scoped>\n",
       "    .dataframe tbody tr th:only-of-type {\n",
       "        vertical-align: middle;\n",
       "    }\n",
       "\n",
       "    .dataframe tbody tr th {\n",
       "        vertical-align: top;\n",
       "    }\n",
       "\n",
       "    .dataframe thead th {\n",
       "        text-align: right;\n",
       "    }\n",
       "</style>\n",
       "<table border=\"1\" class=\"dataframe\">\n",
       "  <thead>\n",
       "    <tr style=\"text-align: right;\">\n",
       "      <th></th>\n",
       "      <th>popularity</th>\n",
       "      <th>title</th>\n",
       "      <th>production_companies</th>\n",
       "      <th>release_date</th>\n",
       "      <th>budget_mean</th>\n",
       "    </tr>\n",
       "  </thead>\n",
       "  <tbody>\n",
       "    <tr>\n",
       "      <th>4801</th>\n",
       "      <td>875.581305</td>\n",
       "      <td>Minions</td>\n",
       "      <td>[{\"name\": \"Universal Pictures\", \"id\": 33}, {\"n...</td>\n",
       "      <td>2015-06-17</td>\n",
       "      <td>74000000.0</td>\n",
       "    </tr>\n",
       "    <tr>\n",
       "      <th>4800</th>\n",
       "      <td>724.247784</td>\n",
       "      <td>Interstellar</td>\n",
       "      <td>[{\"name\": \"Paramount Pictures\", \"id\": 4}, {\"na...</td>\n",
       "      <td>2014-11-05</td>\n",
       "      <td>165000000.0</td>\n",
       "    </tr>\n",
       "    <tr>\n",
       "      <th>4799</th>\n",
       "      <td>514.569956</td>\n",
       "      <td>Deadpool</td>\n",
       "      <td>[{\"name\": \"Twentieth Century Fox Film Corporat...</td>\n",
       "      <td>2016-02-09</td>\n",
       "      <td>58000000.0</td>\n",
       "    </tr>\n",
       "    <tr>\n",
       "      <th>4798</th>\n",
       "      <td>481.098624</td>\n",
       "      <td>Guardians of the Galaxy</td>\n",
       "      <td>[{\"name\": \"Marvel Studios\", \"id\": 420}, {\"name...</td>\n",
       "      <td>2014-07-30</td>\n",
       "      <td>170000000.0</td>\n",
       "    </tr>\n",
       "    <tr>\n",
       "      <th>4797</th>\n",
       "      <td>434.278564</td>\n",
       "      <td>Mad Max: Fury Road</td>\n",
       "      <td>[{\"name\": \"Village Roadshow Pictures\", \"id\": 7...</td>\n",
       "      <td>2015-05-13</td>\n",
       "      <td>150000000.0</td>\n",
       "    </tr>\n",
       "  </tbody>\n",
       "</table>\n",
       "</div>"
      ],
      "text/plain": [
       "      popularity                    title  \\\n",
       "4801  875.581305                  Minions   \n",
       "4800  724.247784             Interstellar   \n",
       "4799  514.569956                 Deadpool   \n",
       "4798  481.098624  Guardians of the Galaxy   \n",
       "4797  434.278564       Mad Max: Fury Road   \n",
       "\n",
       "                                   production_companies release_date  \\\n",
       "4801  [{\"name\": \"Universal Pictures\", \"id\": 33}, {\"n...   2015-06-17   \n",
       "4800  [{\"name\": \"Paramount Pictures\", \"id\": 4}, {\"na...   2014-11-05   \n",
       "4799  [{\"name\": \"Twentieth Century Fox Film Corporat...   2016-02-09   \n",
       "4798  [{\"name\": \"Marvel Studios\", \"id\": 420}, {\"name...   2014-07-30   \n",
       "4797  [{\"name\": \"Village Roadshow Pictures\", \"id\": 7...   2015-05-13   \n",
       "\n",
       "      budget_mean  \n",
       "4801   74000000.0  \n",
       "4800  165000000.0  \n",
       "4799   58000000.0  \n",
       "4798  170000000.0  \n",
       "4797  150000000.0  "
      ]
     },
     "execution_count": 115,
     "metadata": {},
     "output_type": "execute_result"
    }
   ],
   "source": [
    "df_budget_vs_pop.head()"
   ]
  },
  {
   "cell_type": "code",
   "execution_count": 117,
   "id": "23374895-0329-4595-b1d0-d9fbc7630320",
   "metadata": {},
   "outputs": [
    {
     "name": "stdout",
     "output_type": "stream",
     "text": [
      "<class 'pandas.core.frame.DataFrame'>\n",
      "Index: 20 entries, 4801 to 4782\n",
      "Data columns (total 5 columns):\n",
      " #   Column                Non-Null Count  Dtype  \n",
      "---  ------                --------------  -----  \n",
      " 0   popularity            20 non-null     float64\n",
      " 1   title                 20 non-null     object \n",
      " 2   production_companies  20 non-null     object \n",
      " 3   release_date          20 non-null     object \n",
      " 4   budget_mean           20 non-null     float64\n",
      "dtypes: float64(2), object(3)\n",
      "memory usage: 960.0+ bytes\n"
     ]
    }
   ],
   "source": [
    "df_budget_vs_pop.info()"
   ]
  },
  {
   "cell_type": "code",
   "execution_count": 119,
   "id": "c0dc1e73-f68a-45b6-9741-e29b22962540",
   "metadata": {},
   "outputs": [
    {
     "data": {
      "image/png": "[encoded data removed]",
      "text/plain": [
       "<Figure size 1200x800 with 1 Axes>"
      ]
     },
     "metadata": {},
     "output_type": "display_data"
    }
   ],
   "source": [
    "scatter_plot(df_budget_vs_pop , 'budget_mean','popularity' , 'title', 'skyblue' , 'Budget (10 M)' , 'Popularity' ,'Budget vs Popularity for Top 20 Most Popular Movies')"
   ]
  },
  {
   "cell_type": "markdown",
   "id": "5ca6c611-1046-4c82-a7b6-e3138da29738",
   "metadata": {},
   "source": [
    "### Conclusion : Budget is not the main cause for movies to be popular , some movie has the highest budget but least popularity "
   ]
  },
  {
   "cell_type": "markdown",
   "id": "368cf452-86c3-49c0-930e-05c98a89cdb8",
   "metadata": {},
   "source": [
    "## Budget Vs Release Date"
   ]
  },
  {
   "cell_type": "markdown",
   "id": "5bcd3f2b-1698-4849-9f12-3509692195a8",
   "metadata": {},
   "source": [
    "**Does the budget increased or decreased during time and does that affect the popularity?**"
   ]
  },
  {
   "cell_type": "markdown",
   "id": "70c7168b-c001-425a-8b55-98d6d139e36e",
   "metadata": {},
   "source": [
    "**Let's see the release date for budget and popularity for top 20 movies to get first insights**"
   ]
  },
  {
   "cell_type": "code",
   "execution_count": 125,
   "id": "990cfddb-2569-4f43-b338-f884a05d15f0",
   "metadata": {},
   "outputs": [
    {
     "data": {
      "image/png": "[encoded data removed]",
      "text/plain": [
       "<Figure size 1200x800 with 1 Axes>"
      ]
     },
     "metadata": {},
     "output_type": "display_data"
    }
   ],
   "source": [
    "scatter_plot(df_budget_vs_pop , 'budget_mean','popularity' , 'release_date', 'skyblue' , 'Budget (10 M)' , 'Popularity' ,'Budget vs Popularity for Top 20 Most Popular Movies')"
   ]
  },
  {
   "cell_type": "markdown",
   "id": "0ad07faf-b83b-4d55-94a4-9e8fc699b80f",
   "metadata": {},
   "source": [
    "## Compare budget according to year of production and popularity"
   ]
  },
  {
   "cell_type": "code",
   "execution_count": 128,
   "id": "965f89b4-93c1-44a9-a35b-d7e07b230546",
   "metadata": {},
   "outputs": [],
   "source": [
    "df_copy['release_date'] = pd.to_datetime(df['release_date'])\n",
    "df_copy['year'] = df_copy['release_date'].dt.year"
   ]
  },
  {
   "cell_type": "code",
   "execution_count": 130,
   "id": "84216f2a-036e-4b13-84f1-54fe2a014e2b",
   "metadata": {},
   "outputs": [
    {
     "data": {
      "text/html": [
       "<div>\n",
       "<style scoped>\n",
       "    .dataframe tbody tr th:only-of-type {\n",
       "        vertical-align: middle;\n",
       "    }\n",
       "\n",
       "    .dataframe tbody tr th {\n",
       "        vertical-align: top;\n",
       "    }\n",
       "\n",
       "    .dataframe thead th {\n",
       "        text-align: right;\n",
       "    }\n",
       "</style>\n",
       "<table border=\"1\" class=\"dataframe\">\n",
       "  <thead>\n",
       "    <tr style=\"text-align: right;\">\n",
       "      <th></th>\n",
       "      <th>budget</th>\n",
       "      <th>genres</th>\n",
       "      <th>homepage</th>\n",
       "      <th>id</th>\n",
       "      <th>keywords</th>\n",
       "      <th>original_language</th>\n",
       "      <th>title</th>\n",
       "      <th>overview</th>\n",
       "      <th>popularity</th>\n",
       "      <th>production_companies</th>\n",
       "      <th>...</th>\n",
       "      <th>revenue</th>\n",
       "      <th>runtime</th>\n",
       "      <th>spoken_languages</th>\n",
       "      <th>status</th>\n",
       "      <th>tagline</th>\n",
       "      <th>vote_average</th>\n",
       "      <th>vote_count</th>\n",
       "      <th>cast</th>\n",
       "      <th>crew</th>\n",
       "      <th>year</th>\n",
       "    </tr>\n",
       "  </thead>\n",
       "  <tbody>\n",
       "    <tr>\n",
       "      <th>0</th>\n",
       "      <td>237000000</td>\n",
       "      <td>[{\"id\": 28, \"name\": \"Action\"}, {\"id\": 12, \"nam...</td>\n",
       "      <td>http://www.avatarmovie.com/</td>\n",
       "      <td>19995</td>\n",
       "      <td>[{\"id\": 1463, \"name\": \"culture clash\"}, {\"id\":...</td>\n",
       "      <td>en</td>\n",
       "      <td>Avatar</td>\n",
       "      <td>In the 22nd century, a paraplegic Marine is di...</td>\n",
       "      <td>150.437577</td>\n",
       "      <td>[{\"name\": \"Ingenious Film Partners\", \"id\": 289...</td>\n",
       "      <td>...</td>\n",
       "      <td>2787965087</td>\n",
       "      <td>162.0</td>\n",
       "      <td>[{\"iso_639_1\": \"en\", \"name\": \"English\"}, {\"iso...</td>\n",
       "      <td>Released</td>\n",
       "      <td>Enter the World of Pandora.</td>\n",
       "      <td>7.2</td>\n",
       "      <td>11800</td>\n",
       "      <td>[{\"cast_id\": 242, \"character\": \"Jake Sully\", \"...</td>\n",
       "      <td>[{\"credit_id\": \"52fe48009251416c750aca23\", \"de...</td>\n",
       "      <td>2009.0</td>\n",
       "    </tr>\n",
       "    <tr>\n",
       "      <th>1</th>\n",
       "      <td>300000000</td>\n",
       "      <td>[{\"id\": 12, \"name\": \"Adventure\"}, {\"id\": 14, \"...</td>\n",
       "      <td>http://disney.go.com/disneypictures/pirates/</td>\n",
       "      <td>285</td>\n",
       "      <td>[{\"id\": 270, \"name\": \"ocean\"}, {\"id\": 726, \"na...</td>\n",
       "      <td>en</td>\n",
       "      <td>Pirates of the Caribbean: At World's End</td>\n",
       "      <td>Captain Barbossa, long believed to be dead, ha...</td>\n",
       "      <td>139.082615</td>\n",
       "      <td>[{\"name\": \"Walt Disney Pictures\", \"id\": 2}, {\"...</td>\n",
       "      <td>...</td>\n",
       "      <td>961000000</td>\n",
       "      <td>169.0</td>\n",
       "      <td>[{\"iso_639_1\": \"en\", \"name\": \"English\"}]</td>\n",
       "      <td>Released</td>\n",
       "      <td>At the end of the world, the adventure begins.</td>\n",
       "      <td>6.9</td>\n",
       "      <td>4500</td>\n",
       "      <td>[{\"cast_id\": 4, \"character\": \"Captain Jack Spa...</td>\n",
       "      <td>[{\"credit_id\": \"52fe4232c3a36847f800b579\", \"de...</td>\n",
       "      <td>2007.0</td>\n",
       "    </tr>\n",
       "    <tr>\n",
       "      <th>2</th>\n",
       "      <td>245000000</td>\n",
       "      <td>[{\"id\": 28, \"name\": \"Action\"}, {\"id\": 12, \"nam...</td>\n",
       "      <td>http://www.sonypictures.com/movies/spectre/</td>\n",
       "      <td>206647</td>\n",
       "      <td>[{\"id\": 470, \"name\": \"spy\"}, {\"id\": 818, \"name...</td>\n",
       "      <td>en</td>\n",
       "      <td>Spectre</td>\n",
       "      <td>A cryptic message from Bond’s past sends him o...</td>\n",
       "      <td>107.376788</td>\n",
       "      <td>[{\"name\": \"Columbia Pictures\", \"id\": 5}, {\"nam...</td>\n",
       "      <td>...</td>\n",
       "      <td>880674609</td>\n",
       "      <td>148.0</td>\n",
       "      <td>[{\"iso_639_1\": \"fr\", \"name\": \"Fran\\u00e7ais\"},...</td>\n",
       "      <td>Released</td>\n",
       "      <td>A Plan No One Escapes</td>\n",
       "      <td>6.3</td>\n",
       "      <td>4466</td>\n",
       "      <td>[{\"cast_id\": 1, \"character\": \"James Bond\", \"cr...</td>\n",
       "      <td>[{\"credit_id\": \"54805967c3a36829b5002c41\", \"de...</td>\n",
       "      <td>2015.0</td>\n",
       "    </tr>\n",
       "    <tr>\n",
       "      <th>3</th>\n",
       "      <td>250000000</td>\n",
       "      <td>[{\"id\": 28, \"name\": \"Action\"}, {\"id\": 80, \"nam...</td>\n",
       "      <td>http://www.thedarkknightrises.com/</td>\n",
       "      <td>49026</td>\n",
       "      <td>[{\"id\": 849, \"name\": \"dc comics\"}, {\"id\": 853,...</td>\n",
       "      <td>en</td>\n",
       "      <td>The Dark Knight Rises</td>\n",
       "      <td>Following the death of District Attorney Harve...</td>\n",
       "      <td>112.312950</td>\n",
       "      <td>[{\"name\": \"Legendary Pictures\", \"id\": 923}, {\"...</td>\n",
       "      <td>...</td>\n",
       "      <td>1084939099</td>\n",
       "      <td>165.0</td>\n",
       "      <td>[{\"iso_639_1\": \"en\", \"name\": \"English\"}]</td>\n",
       "      <td>Released</td>\n",
       "      <td>The Legend Ends</td>\n",
       "      <td>7.6</td>\n",
       "      <td>9106</td>\n",
       "      <td>[{\"cast_id\": 2, \"character\": \"Bruce Wayne / Ba...</td>\n",
       "      <td>[{\"credit_id\": \"52fe4781c3a36847f81398c3\", \"de...</td>\n",
       "      <td>2012.0</td>\n",
       "    </tr>\n",
       "    <tr>\n",
       "      <th>4</th>\n",
       "      <td>260000000</td>\n",
       "      <td>[{\"id\": 28, \"name\": \"Action\"}, {\"id\": 12, \"nam...</td>\n",
       "      <td>http://movies.disney.com/john-carter</td>\n",
       "      <td>49529</td>\n",
       "      <td>[{\"id\": 818, \"name\": \"based on novel\"}, {\"id\":...</td>\n",
       "      <td>en</td>\n",
       "      <td>John Carter</td>\n",
       "      <td>John Carter is a war-weary, former military ca...</td>\n",
       "      <td>43.926995</td>\n",
       "      <td>[{\"name\": \"Walt Disney Pictures\", \"id\": 2}]</td>\n",
       "      <td>...</td>\n",
       "      <td>284139100</td>\n",
       "      <td>132.0</td>\n",
       "      <td>[{\"iso_639_1\": \"en\", \"name\": \"English\"}]</td>\n",
       "      <td>Released</td>\n",
       "      <td>Lost in our world, found in another.</td>\n",
       "      <td>6.1</td>\n",
       "      <td>2124</td>\n",
       "      <td>[{\"cast_id\": 5, \"character\": \"John Carter\", \"c...</td>\n",
       "      <td>[{\"credit_id\": \"52fe479ac3a36847f813eaa3\", \"de...</td>\n",
       "      <td>2012.0</td>\n",
       "    </tr>\n",
       "  </tbody>\n",
       "</table>\n",
       "<p>5 rows × 22 columns</p>\n",
       "</div>"
      ],
      "text/plain": [
       "      budget                                             genres  \\\n",
       "0  237000000  [{\"id\": 28, \"name\": \"Action\"}, {\"id\": 12, \"nam...   \n",
       "1  300000000  [{\"id\": 12, \"name\": \"Adventure\"}, {\"id\": 14, \"...   \n",
       "2  245000000  [{\"id\": 28, \"name\": \"Action\"}, {\"id\": 12, \"nam...   \n",
       "3  250000000  [{\"id\": 28, \"name\": \"Action\"}, {\"id\": 80, \"nam...   \n",
       "4  260000000  [{\"id\": 28, \"name\": \"Action\"}, {\"id\": 12, \"nam...   \n",
       "\n",
       "                                       homepage      id  \\\n",
       "0                   http://www.avatarmovie.com/   19995   \n",
       "1  http://disney.go.com/disneypictures/pirates/     285   \n",
       "2   http://www.sonypictures.com/movies/spectre/  206647   \n",
       "3            http://www.thedarkknightrises.com/   49026   \n",
       "4          http://movies.disney.com/john-carter   49529   \n",
       "\n",
       "                                            keywords original_language  \\\n",
       "0  [{\"id\": 1463, \"name\": \"culture clash\"}, {\"id\":...                en   \n",
       "1  [{\"id\": 270, \"name\": \"ocean\"}, {\"id\": 726, \"na...                en   \n",
       "2  [{\"id\": 470, \"name\": \"spy\"}, {\"id\": 818, \"name...                en   \n",
       "3  [{\"id\": 849, \"name\": \"dc comics\"}, {\"id\": 853,...                en   \n",
       "4  [{\"id\": 818, \"name\": \"based on novel\"}, {\"id\":...                en   \n",
       "\n",
       "                                      title  \\\n",
       "0                                    Avatar   \n",
       "1  Pirates of the Caribbean: At World's End   \n",
       "2                                   Spectre   \n",
       "3                     The Dark Knight Rises   \n",
       "4                               John Carter   \n",
       "\n",
       "                                            overview  popularity  \\\n",
       "0  In the 22nd century, a paraplegic Marine is di...  150.437577   \n",
       "1  Captain Barbossa, long believed to be dead, ha...  139.082615   \n",
       "2  A cryptic message from Bond’s past sends him o...  107.376788   \n",
       "3  Following the death of District Attorney Harve...  112.312950   \n",
       "4  John Carter is a war-weary, former military ca...   43.926995   \n",
       "\n",
       "                                production_companies  ...     revenue runtime  \\\n",
       "0  [{\"name\": \"Ingenious Film Partners\", \"id\": 289...  ...  2787965087   162.0   \n",
       "1  [{\"name\": \"Walt Disney Pictures\", \"id\": 2}, {\"...  ...   961000000   169.0   \n",
       "2  [{\"name\": \"Columbia Pictures\", \"id\": 5}, {\"nam...  ...   880674609   148.0   \n",
       "3  [{\"name\": \"Legendary Pictures\", \"id\": 923}, {\"...  ...  1084939099   165.0   \n",
       "4        [{\"name\": \"Walt Disney Pictures\", \"id\": 2}]  ...   284139100   132.0   \n",
       "\n",
       "                                    spoken_languages    status  \\\n",
       "0  [{\"iso_639_1\": \"en\", \"name\": \"English\"}, {\"iso...  Released   \n",
       "1           [{\"iso_639_1\": \"en\", \"name\": \"English\"}]  Released   \n",
       "2  [{\"iso_639_1\": \"fr\", \"name\": \"Fran\\u00e7ais\"},...  Released   \n",
       "3           [{\"iso_639_1\": \"en\", \"name\": \"English\"}]  Released   \n",
       "4           [{\"iso_639_1\": \"en\", \"name\": \"English\"}]  Released   \n",
       "\n",
       "                                          tagline vote_average vote_count  \\\n",
       "0                     Enter the World of Pandora.          7.2      11800   \n",
       "1  At the end of the world, the adventure begins.          6.9       4500   \n",
       "2                           A Plan No One Escapes          6.3       4466   \n",
       "3                                 The Legend Ends          7.6       9106   \n",
       "4            Lost in our world, found in another.          6.1       2124   \n",
       "\n",
       "                                                cast  \\\n",
       "0  [{\"cast_id\": 242, \"character\": \"Jake Sully\", \"...   \n",
       "1  [{\"cast_id\": 4, \"character\": \"Captain Jack Spa...   \n",
       "2  [{\"cast_id\": 1, \"character\": \"James Bond\", \"cr...   \n",
       "3  [{\"cast_id\": 2, \"character\": \"Bruce Wayne / Ba...   \n",
       "4  [{\"cast_id\": 5, \"character\": \"John Carter\", \"c...   \n",
       "\n",
       "                                                crew    year  \n",
       "0  [{\"credit_id\": \"52fe48009251416c750aca23\", \"de...  2009.0  \n",
       "1  [{\"credit_id\": \"52fe4232c3a36847f800b579\", \"de...  2007.0  \n",
       "2  [{\"credit_id\": \"54805967c3a36829b5002c41\", \"de...  2015.0  \n",
       "3  [{\"credit_id\": \"52fe4781c3a36847f81398c3\", \"de...  2012.0  \n",
       "4  [{\"credit_id\": \"52fe479ac3a36847f813eaa3\", \"de...  2012.0  \n",
       "\n",
       "[5 rows x 22 columns]"
      ]
     },
     "execution_count": 130,
     "metadata": {},
     "output_type": "execute_result"
    }
   ],
   "source": [
    "df_copy.head()"
   ]
  },
  {
   "cell_type": "code",
   "execution_count": 132,
   "id": "f54feeeb-eca4-4c60-9e29-632da4b58298",
   "metadata": {},
   "outputs": [],
   "source": [
    "y4 = df_copy.groupby(['year']).agg(mean_budget=('budget', 'mean'),\n",
    "    sum_movies=('id', 'sum'),\n",
    "    mean_popularity=('popularity', 'mean')).reset_index()"
   ]
  },
  {
   "cell_type": "code",
   "execution_count": 134,
   "id": "491f819e-e89e-40cd-b266-fefa76362f64",
   "metadata": {},
   "outputs": [
    {
     "data": {
      "text/html": [
       "<div>\n",
       "<style scoped>\n",
       "    .dataframe tbody tr th:only-of-type {\n",
       "        vertical-align: middle;\n",
       "    }\n",
       "\n",
       "    .dataframe tbody tr th {\n",
       "        vertical-align: top;\n",
       "    }\n",
       "\n",
       "    .dataframe thead th {\n",
       "        text-align: right;\n",
       "    }\n",
       "</style>\n",
       "<table border=\"1\" class=\"dataframe\">\n",
       "  <thead>\n",
       "    <tr style=\"text-align: right;\">\n",
       "      <th></th>\n",
       "      <th>year</th>\n",
       "      <th>mean_budget</th>\n",
       "      <th>sum_movies</th>\n",
       "      <th>mean_popularity</th>\n",
       "    </tr>\n",
       "  </thead>\n",
       "  <tbody>\n",
       "    <tr>\n",
       "      <th>0</th>\n",
       "      <td>1916.0</td>\n",
       "      <td>385907.0</td>\n",
       "      <td>3059</td>\n",
       "      <td>3.232447</td>\n",
       "    </tr>\n",
       "    <tr>\n",
       "      <th>1</th>\n",
       "      <td>1925.0</td>\n",
       "      <td>245000.0</td>\n",
       "      <td>3060</td>\n",
       "      <td>0.785744</td>\n",
       "    </tr>\n",
       "    <tr>\n",
       "      <th>2</th>\n",
       "      <td>1927.0</td>\n",
       "      <td>92620000.0</td>\n",
       "      <td>19</td>\n",
       "      <td>32.351527</td>\n",
       "    </tr>\n",
       "    <tr>\n",
       "      <th>3</th>\n",
       "      <td>1929.0</td>\n",
       "      <td>189500.0</td>\n",
       "      <td>66108</td>\n",
       "      <td>1.396524</td>\n",
       "    </tr>\n",
       "    <tr>\n",
       "      <th>4</th>\n",
       "      <td>1930.0</td>\n",
       "      <td>3950000.0</td>\n",
       "      <td>22301</td>\n",
       "      <td>8.484123</td>\n",
       "    </tr>\n",
       "  </tbody>\n",
       "</table>\n",
       "</div>"
      ],
      "text/plain": [
       "     year  mean_budget  sum_movies  mean_popularity\n",
       "0  1916.0     385907.0        3059         3.232447\n",
       "1  1925.0     245000.0        3060         0.785744\n",
       "2  1927.0   92620000.0          19        32.351527\n",
       "3  1929.0     189500.0       66108         1.396524\n",
       "4  1930.0    3950000.0       22301         8.484123"
      ]
     },
     "execution_count": 134,
     "metadata": {},
     "output_type": "execute_result"
    }
   ],
   "source": [
    "y4.head()"
   ]
  },
  {
   "cell_type": "code",
   "execution_count": 136,
   "id": "04313f1e-1307-4f03-8eb9-84daee2ffec2",
   "metadata": {},
   "outputs": [
    {
     "data": {
      "text/html": [
       "<div>\n",
       "<style scoped>\n",
       "    .dataframe tbody tr th:only-of-type {\n",
       "        vertical-align: middle;\n",
       "    }\n",
       "\n",
       "    .dataframe tbody tr th {\n",
       "        vertical-align: top;\n",
       "    }\n",
       "\n",
       "    .dataframe thead th {\n",
       "        text-align: right;\n",
       "    }\n",
       "</style>\n",
       "<table border=\"1\" class=\"dataframe\">\n",
       "  <thead>\n",
       "    <tr style=\"text-align: right;\">\n",
       "      <th></th>\n",
       "      <th>year</th>\n",
       "      <th>mean_budget</th>\n",
       "      <th>sum_movies</th>\n",
       "      <th>mean_popularity</th>\n",
       "    </tr>\n",
       "  </thead>\n",
       "  <tbody>\n",
       "    <tr>\n",
       "      <th>85</th>\n",
       "      <td>2013.0</td>\n",
       "      <td>3.552329e+07</td>\n",
       "      <td>33331367</td>\n",
       "      <td>28.135912</td>\n",
       "    </tr>\n",
       "    <tr>\n",
       "      <th>86</th>\n",
       "      <td>2014.0</td>\n",
       "      <td>3.095989e+07</td>\n",
       "      <td>53287241</td>\n",
       "      <td>37.480126</td>\n",
       "    </tr>\n",
       "    <tr>\n",
       "      <th>87</th>\n",
       "      <td>2015.0</td>\n",
       "      <td>3.113216e+07</td>\n",
       "      <td>59825990</td>\n",
       "      <td>37.256857</td>\n",
       "    </tr>\n",
       "    <tr>\n",
       "      <th>88</th>\n",
       "      <td>2016.0</td>\n",
       "      <td>4.570327e+07</td>\n",
       "      <td>31105498</td>\n",
       "      <td>37.128692</td>\n",
       "    </tr>\n",
       "    <tr>\n",
       "      <th>89</th>\n",
       "      <td>2017.0</td>\n",
       "      <td>0.000000e+00</td>\n",
       "      <td>426469</td>\n",
       "      <td>0.710870</td>\n",
       "    </tr>\n",
       "  </tbody>\n",
       "</table>\n",
       "</div>"
      ],
      "text/plain": [
       "      year   mean_budget  sum_movies  mean_popularity\n",
       "85  2013.0  3.552329e+07    33331367        28.135912\n",
       "86  2014.0  3.095989e+07    53287241        37.480126\n",
       "87  2015.0  3.113216e+07    59825990        37.256857\n",
       "88  2016.0  4.570327e+07    31105498        37.128692\n",
       "89  2017.0  0.000000e+00      426469         0.710870"
      ]
     },
     "execution_count": 136,
     "metadata": {},
     "output_type": "execute_result"
    }
   ],
   "source": [
    "y4.tail()"
   ]
  },
  {
   "cell_type": "code",
   "execution_count": 138,
   "id": "e3434867-3117-4a2d-bc5d-625e6cd77dad",
   "metadata": {},
   "outputs": [
    {
     "name": "stdout",
     "output_type": "stream",
     "text": [
      "<class 'pandas.core.frame.DataFrame'>\n",
      "RangeIndex: 90 entries, 0 to 89\n",
      "Data columns (total 4 columns):\n",
      " #   Column           Non-Null Count  Dtype  \n",
      "---  ------           --------------  -----  \n",
      " 0   year             90 non-null     float64\n",
      " 1   mean_budget      90 non-null     float64\n",
      " 2   sum_movies       90 non-null     int64  \n",
      " 3   mean_popularity  90 non-null     float64\n",
      "dtypes: float64(3), int64(1)\n",
      "memory usage: 2.9 KB\n"
     ]
    }
   ],
   "source": [
    "y4.info()"
   ]
  },
  {
   "cell_type": "code",
   "execution_count": 247,
   "id": "d43c4ca9-a5ea-4fb8-bc82-973097b535a1",
   "metadata": {},
   "outputs": [
    {
     "data": {
      "text/html": [
       "<div>\n",
       "<style scoped>\n",
       "    .dataframe tbody tr th:only-of-type {\n",
       "        vertical-align: middle;\n",
       "    }\n",
       "\n",
       "    .dataframe tbody tr th {\n",
       "        vertical-align: top;\n",
       "    }\n",
       "\n",
       "    .dataframe thead th {\n",
       "        text-align: right;\n",
       "    }\n",
       "</style>\n",
       "<table border=\"1\" class=\"dataframe\">\n",
       "  <thead>\n",
       "    <tr style=\"text-align: right;\">\n",
       "      <th></th>\n",
       "      <th>year</th>\n",
       "      <th>mean_budget</th>\n",
       "      <th>sum_movies</th>\n",
       "      <th>mean_popularity</th>\n",
       "    </tr>\n",
       "  </thead>\n",
       "  <tbody>\n",
       "    <tr>\n",
       "      <th>count</th>\n",
       "      <td>90.000000</td>\n",
       "      <td>9.000000e+01</td>\n",
       "      <td>9.000000e+01</td>\n",
       "      <td>90.000000</td>\n",
       "    </tr>\n",
       "    <tr>\n",
       "      <th>mean</th>\n",
       "      <td>1972.122222</td>\n",
       "      <td>1.344594e+07</td>\n",
       "      <td>3.046508e+06</td>\n",
       "      <td>17.802809</td>\n",
       "    </tr>\n",
       "    <tr>\n",
       "      <th>std</th>\n",
       "      <td>26.748024</td>\n",
       "      <td>1.524953e+07</td>\n",
       "      <td>9.749279e+06</td>\n",
       "      <td>11.006033</td>\n",
       "    </tr>\n",
       "    <tr>\n",
       "      <th>min</th>\n",
       "      <td>1916.000000</td>\n",
       "      <td>0.000000e+00</td>\n",
       "      <td>1.900000e+01</td>\n",
       "      <td>0.579748</td>\n",
       "    </tr>\n",
       "    <tr>\n",
       "      <th>25%</th>\n",
       "      <td>1950.250000</td>\n",
       "      <td>2.180558e+06</td>\n",
       "      <td>4.673425e+04</td>\n",
       "      <td>11.022582</td>\n",
       "    </tr>\n",
       "    <tr>\n",
       "      <th>50%</th>\n",
       "      <td>1972.500000</td>\n",
       "      <td>5.772204e+06</td>\n",
       "      <td>1.497445e+05</td>\n",
       "      <td>17.485740</td>\n",
       "    </tr>\n",
       "    <tr>\n",
       "      <th>75%</th>\n",
       "      <td>1994.750000</td>\n",
       "      <td>2.741813e+07</td>\n",
       "      <td>7.411385e+05</td>\n",
       "      <td>21.917501</td>\n",
       "    </tr>\n",
       "    <tr>\n",
       "      <th>max</th>\n",
       "      <td>2017.000000</td>\n",
       "      <td>9.262000e+07</td>\n",
       "      <td>5.982599e+07</td>\n",
       "      <td>47.491443</td>\n",
       "    </tr>\n",
       "  </tbody>\n",
       "</table>\n",
       "</div>"
      ],
      "text/plain": [
       "              year   mean_budget    sum_movies  mean_popularity\n",
       "count    90.000000  9.000000e+01  9.000000e+01        90.000000\n",
       "mean   1972.122222  1.344594e+07  3.046508e+06        17.802809\n",
       "std      26.748024  1.524953e+07  9.749279e+06        11.006033\n",
       "min    1916.000000  0.000000e+00  1.900000e+01         0.579748\n",
       "25%    1950.250000  2.180558e+06  4.673425e+04        11.022582\n",
       "50%    1972.500000  5.772204e+06  1.497445e+05        17.485740\n",
       "75%    1994.750000  2.741813e+07  7.411385e+05        21.917501\n",
       "max    2017.000000  9.262000e+07  5.982599e+07        47.491443"
      ]
     },
     "execution_count": 247,
     "metadata": {},
     "output_type": "execute_result"
    }
   ],
   "source": [
    "y4.describe()"
   ]
  },
  {
   "cell_type": "markdown",
   "id": "f122486d-e64b-4d27-a71f-e75a39305f24",
   "metadata": {},
   "source": [
    "### plot budget vs popularity "
   ]
  },
  {
   "cell_type": "code",
   "execution_count": 304,
   "id": "6292c873-0c65-4bd0-a9ec-8ec3c1319f44",
   "metadata": {},
   "outputs": [
    {
     "data": {
      "image/png": "[encoded data removed]",
      "text/plain": [
       "<Figure size 2200x800 with 1 Axes>"
      ]
     },
     "metadata": {},
     "output_type": "display_data"
    }
   ],
   "source": [
    "bar_pltot(y4 , 'year' , 'mean_budget' , 'tab:blue' ,'Year Of Production' , 'Budget (10 M)', 'Budget vs Year of production')"
   ]
  },
  {
   "cell_type": "markdown",
   "id": "9b60cb9b-65c0-4d2c-aaab-d0c06b82e13a",
   "metadata": {},
   "source": [
    "# Conclusion: Budget Increased over years we need to check if popularity increased as well to check if it's related or not:\n",
    "\n",
    "## Popularity over the years"
   ]
  },
  {
   "cell_type": "code",
   "execution_count": 312,
   "id": "8c37815f-02f8-493c-8d4f-2846b7e52ab8",
   "metadata": {},
   "outputs": [
    {
     "data": {
      "image/png": "[encoded data removed]",
      "text/plain": [
       "<Figure size 2200x800 with 1 Axes>"
      ]
     },
     "metadata": {},
     "output_type": "display_data"
    }
   ],
   "source": [
    "bar_pltot(y4 , 'year' , 'mean_popularity' , 'salmon' ,'Year' , 'Mean Popularity', 'Mean Of Popularity by Year')"
   ]
  },
  {
   "cell_type": "markdown",
   "id": "e1808685-5cb5-4e19-a6f8-fa378a08e7fb",
   "metadata": {},
   "source": [
    "## Conclusion :\n",
    "1- Popularity of movies is the period between 1930-1960 at the peak while on the other hand budget was at it's lowest at these times \n"
   ]
  },
  {
   "cell_type": "markdown",
   "id": "ebe07d3f-5e08-4937-8853-ceaa65c1a590",
   "metadata": {},
   "source": [
    "2- after 1960 the budget started to increase same as the popularity"
   ]
  },
  {
   "cell_type": "markdown",
   "id": "9061767c-a508-43c8-91ce-3a62f8bad34a",
   "metadata": {},
   "source": [
    "# Final conclusion : \r\n",
    "The budget invested in the movies is not the main factor for movies to be popular, it could be other factors like genres and production companies that need to be studied later.\r\n"
   ]
  },
  {
   "cell_type": "markdown",
   "id": "251394fb-f058-49ad-843a-32ecbbe83940",
   "metadata": {},
   "source": [
    "### For Dataset we have some points and limitations :\n",
    "1- the data for other languages other than english is not enough and rare which may affect our conclusion "
   ]
  },
  {
   "cell_type": "markdown",
   "id": "6eaada2d-e956-4f02-a0af-f3db7d4a2727",
   "metadata": {},
   "source": [
    "2- The data after 2017 is not availabe which also may affect the final result and the final conclusion"
   ]
  },
  {
   "cell_type": "markdown",
   "id": "2f2ee780-2f8d-4d40-8064-a85fce9fc6ba",
   "metadata": {},
   "source": [
    "On the other hand the data for each movie collected seems to be accurate and cover all needed points. Data was cleaned and there no Null values which saves time and offer better implemntation"
   ]
  },
  {
   "cell_type": "markdown",
   "id": "aa1bab8b-bf07-4432-bc25-50ecfddb3fcb",
   "metadata": {},
   "source": [
    "# Future Studies for budget vs popularity :"
   ]
  },
  {
   "cell_type": "markdown",
   "id": "02fe60ba-34bb-4e6a-aecf-10dad0e1f4dd",
   "metadata": {},
   "source": [
    "1- Study budget and popularity according to geners and production companies"
   ]
  }
 ],
 "metadata": {
  "kernelspec": {
   "display_name": "anaconda-2024.02-py310",
   "language": "python",
   "name": "conda-env-anaconda-2024.02-py310-py"
  },
  "language_info": {
   "codemirror_mode": {
    "name": "ipython",
    "version": 3
   },
   "file_extension": ".py",
   "mimetype": "text/x-python",
   "name": "python",
   "nbconvert_exporter": "python",
   "pygments_lexer": "ipython3",
   "version": "3.10.14"
  }
 },
 "nbformat": 4,
 "nbformat_minor": 5
}
